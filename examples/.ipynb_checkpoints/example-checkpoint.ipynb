{
 "cells": [
  {
   "cell_type": "markdown",
   "metadata": {},
   "source": [
    "# Testing the function / package"
   ]
  },
  {
   "cell_type": "code",
   "execution_count": null,
   "metadata": {},
   "outputs": [],
   "source": [
    "from oximachinerunner import OximachineRunner"
   ]
  },
  {
   "cell_type": "markdown",
   "metadata": {},
   "source": [
    "The output of the run_oximachine function is a tuple that contains a list of oxidation states, a list of metal inidices, and the corresponding elemental symbols."
   ]
  },
  {
   "cell_type": "code",
   "execution_count": 9,
   "metadata": {
    "collapsed": true,
    "jupyter": {
     "outputs_hidden": true
    },
    "tags": []
   },
   "outputs": [
    {
     "name": "stdout",
     "output_type": "stream",
     "text": [
      "/Users/kevinmaikjablonka/Dropbox (LSMO)/small_tests/oximachine_aiida_lab/oximachinerunner/assets/all_202000830/classifier.joblib are not exist or md5 is wrong.\n",
      "Download file from https://www.dropbox.com/s/lc2z4abaycjbbe1/classifier.joblib?dl=1\n",
      "100.0% of 527.44M\n",
      "Download /Users/kevinmaikjablonka/Dropbox (LSMO)/small_tests/oximachine_aiida_lab/oximachinerunner/assets/all_202000830/classifier.joblib file successfully.\n",
      "/Users/kevinmaikjablonka/Dropbox (LSMO)/small_tests/oximachine_aiida_lab/oximachinerunner/assets/all_202000830/scaler.joblib are not exist or md5 is wrong.\n",
      "Download file from https://www.dropbox.com/s/qz8c06iupx7cy5h/scaler.joblib?dl=1\n",
      "100.0% of 0.00M\n",
      "Download /Users/kevinmaikjablonka/Dropbox (LSMO)/small_tests/oximachine_aiida_lab/oximachinerunner/assets/all_202000830/scaler.joblib file successfully.\n"
     ]
    }
   ],
   "source": [
    "runner = OximachineRunner()"
   ]
  },
  {
   "cell_type": "markdown",
   "metadata": {},
   "source": [
    "Small structure"
   ]
  },
  {
   "cell_type": "code",
   "execution_count": 10,
   "metadata": {
    "tags": []
   },
   "outputs": [
    {
     "name": "stderr",
     "output_type": "stream",
     "text": [
      "featurize.py: iterating over 2 metal sites\n"
     ]
    },
    {
     "data": {
      "text/plain": [
       "([2, 2], [0, 1], ['Fe', 'Fe'])"
      ]
     },
     "execution_count": 10,
     "metadata": {},
     "output_type": "execute_result"
    }
   ],
   "source": [
    "runner.run_oximachine('../oximachinerunner/assets/ACODAA.cif')"
   ]
  },
  {
   "cell_type": "markdown",
   "metadata": {},
   "source": [
    "### MIL-47 "
   ]
  },
  {
   "cell_type": "code",
   "execution_count": 11,
   "metadata": {
    "tags": []
   },
   "outputs": [
    {
     "name": "stderr",
     "output_type": "stream",
     "text": [
      "featurize.py: iterating over 4 metal sites\n"
     ]
    },
    {
     "data": {
      "text/plain": [
       "([3, 3, 3, 3], [0, 1, 2, 3], ['V', 'V', 'V', 'V'])"
      ]
     },
     "execution_count": 11,
     "metadata": {},
     "output_type": "execute_result"
    }
   ],
   "source": [
    "runner.run_oximachine('IDIWIB_clean.cif')"
   ]
  },
  {
   "cell_type": "code",
   "execution_count": 12,
   "metadata": {
    "tags": []
   },
   "outputs": [
    {
     "name": "stderr",
     "output_type": "stream",
     "text": [
      "featurize.py: iterating over 4 metal sites\n"
     ]
    },
    {
     "data": {
      "text/plain": [
       "([4, 4, 4, 4], [0, 1, 2, 3], ['V', 'V', 'V', 'V'])"
      ]
     },
     "execution_count": 12,
     "metadata": {},
     "output_type": "execute_result"
    }
   ],
   "source": [
    "runner.run_oximachine('IDIWOH_clean.cif')"
   ]
  },
  {
   "cell_type": "markdown",
   "metadata": {},
   "source": [
    "## MOF-74 "
   ]
  },
  {
   "cell_type": "code",
   "execution_count": 13,
   "metadata": {
    "tags": []
   },
   "outputs": [
    {
     "name": "stderr",
     "output_type": "stream",
     "text": [
      "featurize.py: iterating over 18 metal sites\n"
     ]
    },
    {
     "data": {
      "text/plain": [
       "([3, 3, 3, 3, 3, 3, 3, 3, 3, 3, 3, 3, 3, 3, 3, 3, 3, 3],\n",
       " [0, 1, 2, 3, 4, 5, 6, 7, 8, 9, 10, 11, 12, 13, 14, 15, 16, 17],\n",
       " ['Fe',\n",
       "  'Fe',\n",
       "  'Fe',\n",
       "  'Fe',\n",
       "  'Fe',\n",
       "  'Fe',\n",
       "  'Fe',\n",
       "  'Fe',\n",
       "  'Fe',\n",
       "  'Fe',\n",
       "  'Fe',\n",
       "  'Fe',\n",
       "  'Fe',\n",
       "  'Fe',\n",
       "  'Fe',\n",
       "  'Fe',\n",
       "  'Fe',\n",
       "  'Fe'])"
      ]
     },
     "execution_count": 13,
     "metadata": {},
     "output_type": "execute_result"
    }
   ],
   "source": [
    "runner.run_oximachine('guvzee.cif')"
   ]
  },
  {
   "cell_type": "code",
   "execution_count": 17,
   "metadata": {
    "tags": []
   },
   "outputs": [
    {
     "name": "stderr",
     "output_type": "stream",
     "text": [
      "featurize.py: iterating over 18 metal sites\n"
     ]
    },
    {
     "data": {
      "text/plain": [
       "([2, 2, 2, 2, 2, 2, 2, 2, 2, 2, 2, 2, 2, 2, 2, 2, 2, 2],\n",
       " [0, 1, 2, 3, 4, 5, 6, 7, 8, 9, 10, 11, 12, 13, 14, 15, 16, 17],\n",
       " ['Fe',\n",
       "  'Fe',\n",
       "  'Fe',\n",
       "  'Fe',\n",
       "  'Fe',\n",
       "  'Fe',\n",
       "  'Fe',\n",
       "  'Fe',\n",
       "  'Fe',\n",
       "  'Fe',\n",
       "  'Fe',\n",
       "  'Fe',\n",
       "  'Fe',\n",
       "  'Fe',\n",
       "  'Fe',\n",
       "  'Fe',\n",
       "  'Fe',\n",
       "  'Fe'])"
      ]
     },
     "execution_count": 17,
     "metadata": {},
     "output_type": "execute_result"
    }
   ],
   "source": [
    "runner.run_oximachine('GUVZII_clean.cif')"
   ]
  },
  {
   "cell_type": "markdown",
   "metadata": {},
   "source": [
    "## Cu(I,II)-BTC"
   ]
  },
  {
   "cell_type": "code",
   "execution_count": 18,
   "metadata": {
    "tags": []
   },
   "outputs": [
    {
     "name": "stderr",
     "output_type": "stream",
     "text": [
      "featurize.py: iterating over 16 metal sites\n"
     ]
    },
    {
     "data": {
      "text/plain": [
       "([1, 1, 1, 1, 1, 1, 1, 1, 2, 2, 2, 2, 2, 2, 2, 2],\n",
       " [0, 1, 2, 3, 4, 5, 6, 7, 8, 9, 10, 11, 12, 13, 14, 15],\n",
       " ['Cu',\n",
       "  'Cu',\n",
       "  'Cu',\n",
       "  'Cu',\n",
       "  'Cu',\n",
       "  'Cu',\n",
       "  'Cu',\n",
       "  'Cu',\n",
       "  'Cu',\n",
       "  'Cu',\n",
       "  'Cu',\n",
       "  'Cu',\n",
       "  'Cu',\n",
       "  'Cu',\n",
       "  'Cu',\n",
       "  'Cu'])"
      ]
     },
     "execution_count": 18,
     "metadata": {},
     "output_type": "execute_result"
    }
   ],
   "source": [
    "runner.run_oximachine('../oximachinerunner/assets/KAJZIH_freeONLY.cif')"
   ]
  },
  {
   "cell_type": "code",
   "execution_count": null,
   "metadata": {},
   "outputs": [],
   "source": []
  }
 ],
 "metadata": {
  "kernelspec": {
   "display_name": "Python [conda env:oximachinerunner] *",
   "language": "python",
   "name": "conda-env-oximachinerunner-py"
  },
  "language_info": {
   "codemirror_mode": {
    "name": "ipython",
    "version": 3
   },
   "file_extension": ".py",
   "mimetype": "text/x-python",
   "name": "python",
   "nbconvert_exporter": "python",
   "pygments_lexer": "ipython3",
   "version": "3.7.6"
  }
 },
 "nbformat": 4,
 "nbformat_minor": 4
}
